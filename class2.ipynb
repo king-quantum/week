{
  "cells": [
    {
      "cell_type": "code",
      "execution_count": null,
      "metadata": {
        "id": "hbFSwTHWKla4",
        "outputId": "ab609dcd-800a-44f3-d15e-6d2b31316ec4"
      },
      "outputs": [
        {
          "name": "stdout",
          "output_type": "stream",
          "text": [
            "{'name': 'Pancakes', 'ingredients': ['1 cu of flour', '1 cup of milk', '1 egg', '2 teaspoon'], 'instructions': 'golden brown.'}\n"
          ]
        }
      ],
      "source": [
        "recipe = {\n",
        "    \"name\": \"Pancakes\",\n",
        "    \"ingredients\": [\n",
        "        \"1 cu of flour\",\n",
        "        \"1 cup of milk\",\n",
        "        \"1 egg\",\n",
        "        \"2 teaspoon\"\n",
        "    ],\n",
        "    \"instructions\": \"golden brown.\"\n",
        "}\n",
        "print(recipe)"
      ]
    },
    {
      "cell_type": "code",
      "execution_count": 2,
      "metadata": {
        "id": "gKlZd3sTKla5",
        "outputId": "8ae8e465-fe77-4fbb-acc3-ee879a49967d",
        "colab": {
          "base_uri": "https://localhost:8080/",
          "height": 211
        }
      },
      "outputs": [
        {
          "output_type": "error",
          "ename": "NameError",
          "evalue": "name 'recipe' is not defined",
          "traceback": [
            "\u001b[0;31m---------------------------------------------------------------------------\u001b[0m",
            "\u001b[0;31mNameError\u001b[0m                                 Traceback (most recent call last)",
            "\u001b[0;32m<ipython-input-2-47380969b0bd>\u001b[0m in \u001b[0;36m<cell line: 3>\u001b[0;34m()\u001b[0m\n\u001b[1;32m      2\u001b[0m \u001b[0;34m\u001b[0m\u001b[0m\n\u001b[1;32m      3\u001b[0m \u001b[0;32mwith\u001b[0m \u001b[0mopen\u001b[0m\u001b[0;34m(\u001b[0m\u001b[0;34m\"recipe.json\"\u001b[0m\u001b[0;34m,\u001b[0m \u001b[0;34m\"w\"\u001b[0m\u001b[0;34m)\u001b[0m \u001b[0;32mas\u001b[0m \u001b[0moutfil\u001b[0m\u001b[0;34m:\u001b[0m\u001b[0;34m\u001b[0m\u001b[0;34m\u001b[0m\u001b[0m\n\u001b[0;32m----> 4\u001b[0;31m     \u001b[0mjson\u001b[0m\u001b[0;34m.\u001b[0m\u001b[0mdump\u001b[0m\u001b[0;34m(\u001b[0m \u001b[0mrecipe\u001b[0m\u001b[0;34m,\u001b[0m \u001b[0moutfil\u001b[0m\u001b[0;34m,\u001b[0m \u001b[0mindent\u001b[0m\u001b[0;34m=\u001b[0m\u001b[0;36m14\u001b[0m\u001b[0;34m)\u001b[0m\u001b[0;34m\u001b[0m\u001b[0;34m\u001b[0m\u001b[0m\n\u001b[0m\u001b[1;32m      5\u001b[0m \u001b[0mprint\u001b[0m\u001b[0;34m(\u001b[0m\u001b[0;34m\"Recipe saved to recipe.json\"\u001b[0m\u001b[0;34m)\u001b[0m\u001b[0;34m\u001b[0m\u001b[0;34m\u001b[0m\u001b[0m\n\u001b[1;32m      6\u001b[0m \u001b[0;34m\u001b[0m\u001b[0m\n",
            "\u001b[0;31mNameError\u001b[0m: name 'recipe' is not defined"
          ]
        }
      ],
      "source": [
        "import json\n",
        "\n",
        "with open(\"recipe.json\", \"w\") as outfil:\n",
        "    json.dump( recipe, outfil, indent=14)\n",
        "print(\"Recipe saved to recipe.json\")\n",
        "\n",
        ""
      ]
    },
    {
      "cell_type": "code",
      "execution_count": null,
      "metadata": {
        "id": "wlwm3cFfKla6"
      },
      "outputs": [],
      "source": [
        "\n",
        "[\n",
        "\n",
        "    {\n",
        "        \"name\": \"Matt\",\n",
        "        \"title\": \"Product Manager/Lead Tutor\"\n",
        "    },\n",
        "    {\n",
        "        \"name\": \"Zald\",\n",
        "        \"title\": \"Tutor Practitioner\"\n",
        "    }\n",
        "]\n",
        "\n",
        "\n",
        "\n"
      ]
    },
    {
      "cell_type": "code",
      "execution_count": null,
      "metadata": {
        "id": "mGC2qe3pKla7"
      },
      "outputs": [],
      "source": [
        "import json\n",
        "\n",
        "\n",
        "with open(\"employees.json\", \"r\") as infile:\n",
        "    employees_data = json.load(infile)\n",
        "\n",
        "for employee in employees_data:\n",
        "    print(employee[\"name\"])"
      ]
    },
    {
      "cell_type": "code",
      "execution_count": null,
      "metadata": {
        "id": "mpZk0_d3Kla8",
        "outputId": "f376c491-d45f-4e88-ddc5-60c12ce025dd"
      },
      "outputs": [
        {
          "name": "stdout",
          "output_type": "stream",
          "text": [
            "Employee data saved with employee_id to 'employees_with_id.json'\n"
          ]
        }
      ],
      "source": [
        "import json\n",
        "employees_data = [\n",
        "    {\n",
        "        \"name\": \"Matt\",\n",
        "        \"title\": \"Product Manager/Lead Tutor\"\n",
        "    },\n",
        "    {\n",
        "        \"name\": \"Zald\",\n",
        "        \"title\": \"Tutor Practitioner\"\n",
        "    }\n",
        "]\n",
        "\n",
        "for index, employee in enumerate(employees_data, start=1):\n",
        "    employee[\"employee_id\"] = index\n",
        "\n",
        "with open(\"employees_with_id.json\", \"w\") as outfile:\n",
        "    json.dump(employees_data, outfile, indent=4)\n",
        "\n",
        "print(\"employees_with_id.json'\")\n"
      ]
    },
    {
      "cell_type": "code",
      "execution_count": null,
      "metadata": {
        "id": "xDnOafo3Kla-"
      },
      "outputs": [],
      "source": [
        "import json\n",
        "\n",
        "with open(\"employees.json\", \"r\") as infile:\n",
        "    employees_data = json.load(infile)\n",
        "\n",
        "for employee in employees_data:\n",
        "    employee[\"email\"] = f\"{employee['first_name']}.{employee['last_name']}@datapocolypse.com\"\n",
        "\n",
        "\n",
        "with open(\"employees_with_emails.json\", \"w\") as outfile:\n",
        "    json.dump(employees_data, outfile, indent=4)\n",
        "\n",
        "for employee in employees_data:\n",
        "    if employee[\"department\"] == \"Marketing\":\n",
        "        employee[\"salary\"] = (employee[\"salary\"] * 1.10,)\n"
      ]
    },
    {
      "cell_type": "code",
      "execution_count": null,
      "metadata": {
        "id": "qlYKXrXjKla-",
        "outputId": "2c4fcec8-9709-4fb8-b584-284f76f84d4c"
      },
      "outputs": [
        {
          "name": "stdout",
          "output_type": "stream",
          "text": [
            "Student data saved to student.json\n"
          ]
        }
      ],
      "source": [
        "import json\n",
        "\n",
        "student = {\"score\": 85}\n",
        "\n",
        "if student[\"score\"] >= 80:\n",
        "    student[\"grade\"] = \"A\"\n",
        "elif 70 <= student[\"score\"] < 80:\n",
        "    student[\"grade\"] = \"B\"\n",
        "elif 60 <= student[\"score\"] < 70:\n",
        "    student[\"grade\"] = \"C\"\n",
        "elif 50 <= student[\"score\"] < 60:\n",
        "    student[\"grade\"] = \"D\"\n",
        "else:\n",
        "    student[\"grade\"] = \"F\"\n",
        "\n",
        "with open(\"student.json\", \"w\") as outfile:\n",
        "    json.dump(student, outfile, indent=4)\n",
        "\n",
        "# Print confirmation\n",
        "print(\"Student data saved to student.json\")\n"
      ]
    }
  ],
  "metadata": {
    "kernelspec": {
      "display_name": "Python 3",
      "language": "python",
      "name": "python3"
    },
    "language_info": {
      "codemirror_mode": {
        "name": "ipython",
        "version": 3
      },
      "file_extension": ".py",
      "mimetype": "text/x-python",
      "name": "python",
      "nbconvert_exporter": "python",
      "pygments_lexer": "ipython3",
      "version": "3.10.6"
    },
    "colab": {
      "provenance": []
    }
  },
  "nbformat": 4,
  "nbformat_minor": 0
}