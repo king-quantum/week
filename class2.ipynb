{
 "cells": [
  {
   "cell_type": "code",
   "execution_count": 2,
   "metadata": {},
   "outputs": [
    {
     "name": "stdout",
     "output_type": "stream",
     "text": [
      "{'name': 'Pancakes', 'ingredients': ['1 cu of flour', '1 cup of milk', '1 egg', '2 teaspoon'], 'instructions': 'golden brown.'}\n"
     ]
    }
   ],
   "source": [
    "recipe = {\n",
    "    \"name\": \"Pancakes\",\n",
    "    \"ingredients\": [\n",
    "        \"1 cu of flour\",\n",
    "        \"1 cup of milk\",\n",
    "        \"1 egg\",\n",
    "        \"2 teaspoon\"\n",
    "    ],\n",
    "    \"instructions\": \"golden brown.\"\n",
    "}\n",
    "print(recipe)"
   ]
  },
  {
   "cell_type": "code",
   "execution_count": null,
   "metadata": {},
   "outputs": [
    {
     "ename": "NameError",
     "evalue": "name 'JSON' is not defined",
     "output_type": "error",
     "traceback": [
      "\u001b[0;31m---------------------------------------------------------------------------\u001b[0m",
      "\u001b[0;31mNameError\u001b[0m                                 Traceback (most recent call last)",
      "Cell \u001b[0;32mIn[44], line 4\u001b[0m\n\u001b[1;32m      1\u001b[0m \u001b[38;5;28;01mimport\u001b[39;00m \u001b[38;5;21;01mjson\u001b[39;00m \n\u001b[1;32m      3\u001b[0m \u001b[38;5;28;01mwith\u001b[39;00m \u001b[38;5;28mopen\u001b[39m(\u001b[38;5;124m\"\u001b[39m\u001b[38;5;124mrecipe.json\u001b[39m\u001b[38;5;124m\"\u001b[39m, \u001b[38;5;124m\"\u001b[39m\u001b[38;5;124mw\u001b[39m\u001b[38;5;124m\"\u001b[39m) \u001b[38;5;28;01mas\u001b[39;00m outfil:\n\u001b[0;32m----> 4\u001b[0m     \u001b[43mJSON\u001b[49m\u001b[38;5;241m.\u001b[39mdump( recipe, outfil, indent\u001b[38;5;241m=\u001b[39m\u001b[38;5;241m4\u001b[39m)\n\u001b[1;32m      5\u001b[0m \u001b[38;5;28mprint\u001b[39m(\u001b[38;5;124m\"\u001b[39m\u001b[38;5;124mRecipe saved to recipe.json\u001b[39m\u001b[38;5;124m\"\u001b[39m)\n",
      "\u001b[0;31mNameError\u001b[0m: name 'JSON' is not defined"
     ]
    }
   ],
   "source": [
    "import json \n",
    "\n",
    "with open(\"recipe.json\", \"w\") as outfil:\n",
    "    JSON.dump( recipe, outfil, indent=4)\n",
    "print(\"Recipe saved to recipe.json\")\n",
    "\n",
    "    "
   ]
  },
  {
   "cell_type": "code",
   "execution_count": null,
   "metadata": {},
   "outputs": [],
   "source": [
    "\n",
    "[\n",
    "    \n",
    "    {\n",
    "        \"name\": \"Matt\",\n",
    "        \"title\": \"Product Manager/Lead Tutor\"\n",
    "    },\n",
    "    {\n",
    "        \"name\": \"Zald\",\n",
    "        \"title\": \"Tutor Practitioner\"\n",
    "    }\n",
    "]\n",
    "\n",
    "\n",
    "\n"
   ]
  },
  {
   "cell_type": "code",
   "execution_count": null,
   "metadata": {},
   "outputs": [],
   "source": [
    "import json\n",
    "\n",
    "\n",
    "with open(\"employees.json\", \"r\") as infile:\n",
    "    employees_data = json.load(infile)\n",
    "\n",
    "for employee in employees_data:\n",
    "    print(employee[\"name\"])"
   ]
  },
  {
   "cell_type": "code",
   "execution_count": null,
   "metadata": {},
   "outputs": [
    {
     "name": "stdout",
     "output_type": "stream",
     "text": [
      "Employee data saved with employee_id to 'employees_with_id.json'\n"
     ]
    }
   ],
   "source": [
    "import json\n",
    "employees_data = [\n",
    "    {\n",
    "        \"name\": \"Matt\",\n",
    "        \"title\": \"Product Manager/Lead Tutor\"\n",
    "    },\n",
    "    {\n",
    "        \"name\": \"Zald\",\n",
    "        \"title\": \"Tutor Practitioner\"\n",
    "    }\n",
    "]\n",
    "\n",
    "for index, employee in enumerate(employees_data, start=1):\n",
    "    employee[\"employee_id\"] = index\n",
    "\n",
    "with open(\"employees_with_id.json\", \"w\") as outfile:\n",
    "    json.dump(employees_data, outfile, indent=4)\n",
    "\n",
    "print(\"employees_with_id.json'\")\n"
   ]
  },
  {
   "cell_type": "code",
   "execution_count": 48,
   "metadata": {},
   "outputs": [],
   "source": [
    "import json\n",
    "\n",
    "with open(\"employees.json\", \"r\") as infile:\n",
    "    employees_data = json.load(infile)\n",
    "\n",
    "for employee in employees_data:\n",
    "    employee[\"email\"] = f\"{employee['first_name']}.{employee['last_name']}@datapocolypse.com\"\n",
    "\n",
    "\n",
    "with open(\"employees_with_emails.json\", \"w\") as outfile:\n",
    "    json.dump(employees_data, outfile, indent=4)\n",
    "\n",
    "for employee in employees_data:\n",
    "    if employee[\"department\"] == \"Marketing\":\n",
    "        employee[\"salary\"] = (employee[\"salary\"] * 1.10,)\n"
   ]
  },
  {
   "cell_type": "code",
   "execution_count": 49,
   "metadata": {},
   "outputs": [
    {
     "name": "stdout",
     "output_type": "stream",
     "text": [
      "Student data saved to student.json\n"
     ]
    }
   ],
   "source": [
    "import json\n",
    "\n",
    "student = {\"score\": 85} \n",
    "\n",
    "if student[\"score\"] >= 80:\n",
    "    student[\"grade\"] = \"A\"\n",
    "elif 70 <= student[\"score\"] < 80:\n",
    "    student[\"grade\"] = \"B\"\n",
    "elif 60 <= student[\"score\"] < 70:\n",
    "    student[\"grade\"] = \"C\"\n",
    "elif 50 <= student[\"score\"] < 60:\n",
    "    student[\"grade\"] = \"D\"\n",
    "else:\n",
    "    student[\"grade\"] = \"F\"\n",
    "\n",
    "with open(\"student.json\", \"w\") as outfile:\n",
    "    json.dump(student, outfile, indent=4)\n",
    "\n",
    "# Print confirmation\n",
    "print(\"Student data saved to student.json\")\n"
   ]
  }
 ],
 "metadata": {
  "kernelspec": {
   "display_name": "Python 3",
   "language": "python",
   "name": "python3"
  },
  "language_info": {
   "codemirror_mode": {
    "name": "ipython",
    "version": 3
   },
   "file_extension": ".py",
   "mimetype": "text/x-python",
   "name": "python",
   "nbconvert_exporter": "python",
   "pygments_lexer": "ipython3",
   "version": "3.10.6"
  }
 },
 "nbformat": 4,
 "nbformat_minor": 2
}
